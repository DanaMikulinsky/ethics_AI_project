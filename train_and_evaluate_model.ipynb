{
 "cells": [
  {
   "cell_type": "code",
   "id": "initial_id",
   "metadata": {
    "collapsed": true,
    "ExecuteTime": {
     "end_time": "2024-06-30T07:37:12.842493Z",
     "start_time": "2024-06-30T07:37:09.403630Z"
    }
   },
   "source": [
    "import pandas as pd\n",
    "from sklearn.model_selection import train_test_split\n",
    "from sklearn.feature_extraction.text import TfidfVectorizer\n",
    "from sklearn.preprocessing import LabelEncoder\n",
    "from sklearn.pipeline import Pipeline\n",
    "from sklearn.linear_model import LogisticRegression\n",
    "from sklearn.metrics import classification_report, confusion_matrix\n",
    "import numpy as np"
   ],
   "outputs": [],
   "execution_count": 5
  },
  {
   "metadata": {
    "ExecuteTime": {
     "end_time": "2024-06-30T07:35:33.364789Z",
     "start_time": "2024-06-30T07:35:33.347542Z"
    }
   },
   "cell_type": "code",
   "source": [
    "# Load the dataset\n",
    "file_path = 'generated_training_dataset.csv'\n",
    "df = pd.read_csv(file_path)\n",
    "df.head()"
   ],
   "id": "342aabff11890fd6",
   "outputs": [
    {
     "data": {
      "text/plain": [
       "   gender                                        description  \\\n",
       "0  Female  I was at work and suddenly felt bleeding, indi...   \n",
       "1  Female  I was at the gym when I started to feel broken...   \n",
       "2  Female  I was driving when I started to feel jaw pain,...   \n",
       "3  Female  While walking, I experienced nausea, bleeding,...   \n",
       "4    Male  I was sitting at home when I felt indigestion,...   \n",
       "\n",
       "                                   provided_symptoms priority_status  \n",
       "0  ['bleeding', 'indigestion', 'vomiting', 'broke...    non-priority  \n",
       "1             ['broken arm', 'vomiting', 'bleeding']    non-priority  \n",
       "2               ['jaw pain', 'nausea', 'broken arm']    non-priority  \n",
       "3  ['nausea', 'bleeding', 'broken leg', 'broken a...    non-priority  \n",
       "4          ['indigestion', 'broken arm', 'sweating']    non-priority  "
      ],
      "text/html": [
       "<div>\n",
       "<style scoped>\n",
       "    .dataframe tbody tr th:only-of-type {\n",
       "        vertical-align: middle;\n",
       "    }\n",
       "\n",
       "    .dataframe tbody tr th {\n",
       "        vertical-align: top;\n",
       "    }\n",
       "\n",
       "    .dataframe thead th {\n",
       "        text-align: right;\n",
       "    }\n",
       "</style>\n",
       "<table border=\"1\" class=\"dataframe\">\n",
       "  <thead>\n",
       "    <tr style=\"text-align: right;\">\n",
       "      <th></th>\n",
       "      <th>gender</th>\n",
       "      <th>description</th>\n",
       "      <th>provided_symptoms</th>\n",
       "      <th>priority_status</th>\n",
       "    </tr>\n",
       "  </thead>\n",
       "  <tbody>\n",
       "    <tr>\n",
       "      <th>0</th>\n",
       "      <td>Female</td>\n",
       "      <td>I was at work and suddenly felt bleeding, indi...</td>\n",
       "      <td>['bleeding', 'indigestion', 'vomiting', 'broke...</td>\n",
       "      <td>non-priority</td>\n",
       "    </tr>\n",
       "    <tr>\n",
       "      <th>1</th>\n",
       "      <td>Female</td>\n",
       "      <td>I was at the gym when I started to feel broken...</td>\n",
       "      <td>['broken arm', 'vomiting', 'bleeding']</td>\n",
       "      <td>non-priority</td>\n",
       "    </tr>\n",
       "    <tr>\n",
       "      <th>2</th>\n",
       "      <td>Female</td>\n",
       "      <td>I was driving when I started to feel jaw pain,...</td>\n",
       "      <td>['jaw pain', 'nausea', 'broken arm']</td>\n",
       "      <td>non-priority</td>\n",
       "    </tr>\n",
       "    <tr>\n",
       "      <th>3</th>\n",
       "      <td>Female</td>\n",
       "      <td>While walking, I experienced nausea, bleeding,...</td>\n",
       "      <td>['nausea', 'bleeding', 'broken leg', 'broken a...</td>\n",
       "      <td>non-priority</td>\n",
       "    </tr>\n",
       "    <tr>\n",
       "      <th>4</th>\n",
       "      <td>Male</td>\n",
       "      <td>I was sitting at home when I felt indigestion,...</td>\n",
       "      <td>['indigestion', 'broken arm', 'sweating']</td>\n",
       "      <td>non-priority</td>\n",
       "    </tr>\n",
       "  </tbody>\n",
       "</table>\n",
       "</div>"
      ]
     },
     "execution_count": 2,
     "metadata": {},
     "output_type": "execute_result"
    }
   ],
   "execution_count": 2
  },
  {
   "metadata": {
    "ExecuteTime": {
     "end_time": "2024-06-30T07:36:08.553427Z",
     "start_time": "2024-06-30T07:36:08.536235Z"
    }
   },
   "cell_type": "code",
   "source": "df['priority_status'].value_counts()",
   "id": "520e482ee1dabd1e",
   "outputs": [
    {
     "data": {
      "text/plain": [
       "priority_status\n",
       "non-priority    300\n",
       "priority        150\n",
       "Name: count, dtype: int64"
      ]
     },
     "execution_count": 4,
     "metadata": {},
     "output_type": "execute_result"
    }
   ],
   "execution_count": 4
  },
  {
   "metadata": {},
   "cell_type": "markdown",
   "source": "# Preprocess",
   "id": "3139673e7ad2fc22"
  },
  {
   "metadata": {
    "ExecuteTime": {
     "end_time": "2024-06-30T07:38:33.874201Z",
     "start_time": "2024-06-30T07:38:33.843532Z"
    }
   },
   "cell_type": "code",
   "source": [
    "# Combine description and provided_symptoms into a single text feature\n",
    "df['text'] = df['description'] + ' ' + df['provided_symptoms'].apply(lambda x: ' '.join(eval(x)))\n",
    "\n",
    "# Encode the categorical features\n",
    "label_encoder = LabelEncoder()\n",
    "df['gender_encoded'] = label_encoder.fit_transform(df['gender'])\n",
    "df['priority_status_encoded'] = label_encoder.fit_transform(df['priority_status'])\n",
    "\n",
    "# Split the data into training and testing sets\n",
    "X = df[['text', 'gender_encoded']]\n",
    "y = df['priority_status_encoded']\n",
    "X_train, X_test, y_train, y_test = train_test_split(X, y, test_size=0.3, random_state=42)\n",
    "\n",
    "# Vectorize the text data and combine with gender using a pipeline\n",
    "pipeline = Pipeline([\n",
    "    ('tfidf', TfidfVectorizer()),\n",
    "    ('model', LogisticRegression())\n",
    "])\n",
    "\n",
    "# Train the model\n",
    "pipeline.fit(X_train['text'], y_train)\n",
    "\n",
    "# Predict the priority_status for the test set\n",
    "y_pred = pipeline.predict(X_test['text'])"
   ],
   "id": "2478ed090d80931d",
   "outputs": [],
   "execution_count": 6
  },
  {
   "metadata": {},
   "cell_type": "markdown",
   "source": "# Evaluate Results",
   "id": "7a5a8b2186c0074a"
  },
  {
   "metadata": {
    "ExecuteTime": {
     "end_time": "2024-06-30T07:39:16.008686Z",
     "start_time": "2024-06-30T07:39:15.990663Z"
    }
   },
   "cell_type": "code",
   "source": "print(\"Classification Report:\\n\", classification_report(y_test, y_pred))",
   "id": "59fb1962e0b464b",
   "outputs": [
    {
     "name": "stdout",
     "output_type": "stream",
     "text": [
      "Classification Report:\n",
      "               precision    recall  f1-score   support\n",
      "\n",
      "           0       0.89      1.00      0.94        92\n",
      "           1       1.00      0.74      0.85        43\n",
      "\n",
      "    accuracy                           0.92       135\n",
      "   macro avg       0.95      0.87      0.90       135\n",
      "weighted avg       0.93      0.92      0.91       135\n",
      "\n"
     ]
    }
   ],
   "execution_count": 9
  },
  {
   "metadata": {
    "ExecuteTime": {
     "end_time": "2024-06-30T07:42:21.743817Z",
     "start_time": "2024-06-30T07:42:21.738798Z"
    }
   },
   "cell_type": "code",
   "source": [
    "# Confusion Matrix divided by gender\n",
    "conf_matrix = confusion_matrix(y_test, y_pred, labels=[0, 1])\n",
    "# Creating a DataFrame for the confusion matrix with labels\n",
    "conf_matrix_df = pd.DataFrame(conf_matrix, \n",
    "                              index=['Actual Non-Priority', 'Actual Priority'], \n",
    "                              columns=['Predicted Non-Priority', 'Predicted Priority'])\n",
    "\n",
    "print(\"Confusion Matrix:\\n\", conf_matrix_df)"
   ],
   "id": "bdf8d3fddd028704",
   "outputs": [
    {
     "name": "stdout",
     "output_type": "stream",
     "text": [
      "Confusion Matrix:\n",
      "                      Predicted Non-Priority  Predicted Priority\n",
      "Actual Non-Priority                      92                   0\n",
      "Actual Priority                          11                  32\n"
     ]
    }
   ],
   "execution_count": 13
  },
  {
   "metadata": {
    "ExecuteTime": {
     "end_time": "2024-06-30T07:45:33.770088Z",
     "start_time": "2024-06-30T07:45:33.760982Z"
    }
   },
   "cell_type": "code",
   "source": [
    "# Confusion matrix by gender\n",
    "y_test_female = y_test[X_test['gender_encoded'] == 0]\n",
    "y_pred_female = y_pred[X_test['gender_encoded'] == 0]\n",
    "y_test_male = y_test[X_test['gender_encoded'] == 1]\n",
    "y_pred_male = y_pred[X_test['gender_encoded'] == 1]\n",
    "\n",
    "conf_matrix_female = confusion_matrix(y_test_female, y_pred_female)\n",
    "conf_matrix_male = confusion_matrix(y_test_male, y_pred_male)"
   ],
   "id": "669896482ec1dad7",
   "outputs": [],
   "execution_count": 15
  },
  {
   "metadata": {
    "ExecuteTime": {
     "end_time": "2024-06-30T07:46:18.886210Z",
     "start_time": "2024-06-30T07:46:18.874999Z"
    }
   },
   "cell_type": "code",
   "source": [
    "conf_matrix_female_df = pd.DataFrame(conf_matrix_female, \n",
    "                                     index=['Actual Non-Priority', 'Actual Priority'], \n",
    "                                     columns=['Predicted Non-Priority', 'Predicted Priority'])\n",
    "print(\"Confusion Matrix for Females:\\n\", conf_matrix_female_df)"
   ],
   "id": "a094325ac5fba6d5",
   "outputs": [
    {
     "name": "stdout",
     "output_type": "stream",
     "text": [
      "Confusion Matrix for Females:\n",
      "                      Predicted Non-Priority  Predicted Priority\n",
      "Actual Non-Priority                      43                   0\n",
      "Actual Priority                          11                   7\n"
     ]
    }
   ],
   "execution_count": 16
  },
  {
   "metadata": {
    "ExecuteTime": {
     "end_time": "2024-06-30T07:46:28.217986Z",
     "start_time": "2024-06-30T07:46:28.205859Z"
    }
   },
   "cell_type": "code",
   "source": [
    "conf_matrix_male_df = pd.DataFrame(conf_matrix_male, \n",
    "                                   index=['Actual Non-Priority', 'Actual Priority'], \n",
    "                                   columns=['Predicted Non-Priority', 'Predicted Priority'])\n",
    "print(\"\\nConfusion Matrix for Males:\\n\", conf_matrix_male_df)"
   ],
   "id": "48415fedf6df4914",
   "outputs": [
    {
     "name": "stdout",
     "output_type": "stream",
     "text": [
      "\n",
      "Confusion Matrix for Males:\n",
      "                      Predicted Non-Priority  Predicted Priority\n",
      "Actual Non-Priority                      49                   0\n",
      "Actual Priority                           0                  25\n"
     ]
    }
   ],
   "execution_count": 17
  }
 ],
 "metadata": {
  "kernelspec": {
   "display_name": "Python 3",
   "language": "python",
   "name": "python3"
  },
  "language_info": {
   "codemirror_mode": {
    "name": "ipython",
    "version": 2
   },
   "file_extension": ".py",
   "mimetype": "text/x-python",
   "name": "python",
   "nbconvert_exporter": "python",
   "pygments_lexer": "ipython2",
   "version": "2.7.6"
  }
 },
 "nbformat": 4,
 "nbformat_minor": 5
}
